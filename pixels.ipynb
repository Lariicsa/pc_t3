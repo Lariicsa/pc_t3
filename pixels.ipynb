{
 "cells": [
  {
   "cell_type": "markdown",
   "id": "923d8522-7167-42ee-968e-68b3b2c3f312",
   "metadata": {},
   "source": [
    "## Segmentación por Pixels"
   ]
  },
  {
   "cell_type": "code",
   "execution_count": null,
   "id": "7a725b96-eb55-437c-bdee-d4c2d1f15eb6",
   "metadata": {},
   "outputs": [],
   "source": [
    "import cv2 as cv\n",
    "imgGT=cv.imread('assets/adhd_brain.jpeg')\n",
    "\n",
    "#Binarizamos la imagen (detección de bordes)\n",
    "\n",
    "imgBin = cv.Canny(imgGT, 100, 160)\n",
    "\n",
    "cv.imshow(\"imgBin\", imgBin)\n",
    "\n",
    "cv.waitKey(0)\n",
    "cv.destroyAllWindows()"
   ]
  }
 ],
 "metadata": {
  "kernelspec": {
   "display_name": "Python 3 (ipykernel)",
   "language": "python",
   "name": "python3"
  },
  "language_info": {
   "codemirror_mode": {
    "name": "ipython",
    "version": 3
   },
   "file_extension": ".py",
   "mimetype": "text/x-python",
   "name": "python",
   "nbconvert_exporter": "python",
   "pygments_lexer": "ipython3",
   "version": "3.12.7"
  }
 },
 "nbformat": 4,
 "nbformat_minor": 5
}
